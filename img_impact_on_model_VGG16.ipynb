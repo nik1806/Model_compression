{
  "cells": [
    {
      "cell_type": "code",
      "execution_count": 2,
      "metadata": {
        "id": "gtCGsUUpY2hV"
      },
      "outputs": [],
      "source": [
        "import numpy as np\n",
        "import tensorflow as tf\n",
        "from tensorflow import keras, profiler\n",
        "from tensorflow.keras import backend as K\n",
        "import matplotlib.pyplot as plt\n",
        "import time\n",
        "import torch\n",
        "from timeit import default_timer as timer\n",
        "%matplotlib inline"
      ]
    },
    {
      "cell_type": "markdown",
      "source": [
        "## Define models and useful functions\n"
      ],
      "metadata": {
        "id": "VuTQfMideOwe"
      }
    },
    {
      "cell_type": "code",
      "source": [
        "def VGG16(img_shape):\n",
        "    model = keras.Sequential()\n",
        "    model.add(keras.layers.Conv2D(input_shape=img_shape,filters=64,kernel_size=(3,3),padding=\"same\", activation=\"relu\"))\n",
        "    model.add(keras.layers.Conv2D(filters=64,kernel_size=(3,3),padding=\"same\", activation=\"relu\"))\n",
        "    model.add(keras.layers.MaxPool2D(pool_size=(2,2),strides=(2,2)))\n",
        "    model.add(keras.layers.Conv2D(filters=128, kernel_size=(3,3), padding=\"same\", activation=\"relu\"))\n",
        "    model.add(keras.layers.Conv2D(filters=128, kernel_size=(3,3), padding=\"same\", activation=\"relu\"))\n",
        "    model.add(keras.layers.MaxPool2D(pool_size=(2,2),strides=(2,2)))\n",
        "    model.add(keras.layers.Conv2D(filters=256, kernel_size=(3,3), padding=\"same\", activation=\"relu\"))\n",
        "    model.add(keras.layers.Conv2D(filters=256, kernel_size=(3,3), padding=\"same\", activation=\"relu\"))\n",
        "    model.add(keras.layers.Conv2D(filters=256, kernel_size=(3,3), padding=\"same\", activation=\"relu\"))\n",
        "    model.add(keras.layers.MaxPool2D(pool_size=(2,2),strides=(2,2)))\n",
        "    model.add(keras.layers.Conv2D(filters=512, kernel_size=(3,3), padding=\"same\", activation=\"relu\"))\n",
        "    model.add(keras.layers.Conv2D(filters=512, kernel_size=(3,3), padding=\"same\", activation=\"relu\"))\n",
        "    model.add(keras.layers.Conv2D(filters=512, kernel_size=(3,3), padding=\"same\", activation=\"relu\"))\n",
        "    model.add(keras.layers.MaxPool2D(pool_size=(2,2),strides=(2,2)))\n",
        "    model.add(keras.layers.Conv2D(filters=512, kernel_size=(3,3), padding=\"same\", activation=\"relu\"))\n",
        "    model.add(keras.layers.Conv2D(filters=512, kernel_size=(3,3), padding=\"same\", activation=\"relu\"))\n",
        "    model.add(keras.layers.Conv2D(filters=512, kernel_size=(3,3), padding=\"same\", activation=\"relu\"))\n",
        "    model.add(keras.layers.MaxPool2D(pool_size=(2,2),strides=(2,2),name='vgg16'))\n",
        "    model.add(keras.layers.Flatten(name='flatten'))\n",
        "    model.add(keras.layers.Dense(256, activation='relu', name='fc1'))\n",
        "    model.add(keras.layers.Dense(128, activation='relu', name='fc2'))\n",
        "    model.add(keras.layers.Dense(10, activation='sigmoid', name='output'))\n",
        "    return model"
      ],
      "metadata": {
        "id": "iQ9u2YWefcqN"
      },
      "execution_count": 3,
      "outputs": []
    },
    {
      "cell_type": "code",
      "source": [
        "# This function consider synchronous execution and GPU aspects to measure time more accurately\n",
        "\n",
        "def profile_inf_time(img_expanded, model):\n",
        "    starter, ender = torch.cuda.Event(enable_timing=True), torch.cuda.Event(enable_timing=True)\n",
        "    repetitions = 400\n",
        "    timings=np.zeros((repetitions,1))\n",
        "    #GPU-WARM-UP\n",
        "    for _ in range(10):\n",
        "        _ = model.predict(img_expanded)\n",
        "    # MEASURE PERFORMANCE\n",
        "    for rep in range(repetitions):\n",
        "        starter.record()\n",
        "        _ = model.predict(img_expanded)\n",
        "        ender.record()\n",
        "        # WAIT FOR GPU SYNC\n",
        "        torch.cuda.synchronize()\n",
        "        curr_time = starter.elapsed_time(ender)\n",
        "        timings[rep] = curr_time\n",
        "    mean_syn = np.sum(timings) / repetitions\n",
        "    std_syn = np.std(timings)\n",
        "    time.sleep(1) # to avoid interference between each execution\n",
        "    return mean_syn"
      ],
      "metadata": {
        "id": "UYPLZceUrkNX"
      },
      "execution_count": null,
      "outputs": []
    },
    {
      "cell_type": "code",
      "source": [
        "# determine the memory in bytes\n",
        "number_size = 4.0 # default 'float32' -> memory = 4 Bytes\n",
        "if K.floatx() == 'float16':\n",
        "        number_size = 2.0\n",
        "if K.floatx() == 'float64':\n",
        "        number_size = 8.0"
      ],
      "metadata": {
        "id": "j_g8DdKS3v0P"
      },
      "execution_count": null,
      "outputs": []
    },
    {
      "cell_type": "markdown",
      "source": [
        "## Measure no. of parameters, model memory size and inference time"
      ],
      "metadata": {
        "id": "Ln8kJdK3eZuk"
      }
    },
    {
      "cell_type": "code",
      "source": [
        "img_size_list = []\n",
        "n_params_list = []\n",
        "infer_time_list = []\n",
        "\n",
        "for i in range(1,9):\n",
        "    # dummy image\n",
        "    img_shape = (32*i, 32*i, 3)\n",
        "    img = np.random.randint(0, 255, img_shape)\n",
        "    img_expanded = np.expand_dims(img, axis=0)\n",
        "    # built-in model - doesn't change no. of parameters with image shape \n",
        "    # processed_img = tf.keras.applications.vgg16.preprocess_input(img_expanded) \n",
        "    # model = tf.keras.applications.VGG16(input_shape = img_shape, classes=10, include_top=False, weights=None)\n",
        "    # custom model\n",
        "    model = VGG16(img_shape)\n",
        "    curr_time = profile_inf_time(img_expanded, model)\n",
        "    # get model stats\n",
        "    n_params = model.count_params()\n",
        "    print(f\"Image shape:{img_shape[0]},\\t No. of params:{n_params},\\t Memory:{n_params * number_size},\\t Inference time:{curr_time}\")\n",
        "    # append to list\n",
        "    img_size_list.append(img_shape[0])\n",
        "    n_params_list.append(n_params)\n",
        "    infer_time_list.append(curr_time)"
      ],
      "metadata": {
        "colab": {
          "base_uri": "https://localhost:8080/"
        },
        "id": "amkZ9y-mZ938",
        "outputId": "3677fa06-99e7-4461-e90d-906669890bdd"
      },
      "execution_count": null,
      "outputs": [
        {
          "output_type": "stream",
          "name": "stdout",
          "text": [
            "Image shape:32,\t No. of params:14880202,\t Memory:59520808.0,\t Inference time:77.75852620124817\n",
            "Image shape:64,\t No. of params:15273418,\t Memory:61093672.0,\t Inference time:72.84998688697814\n",
            "Image shape:96,\t No. of params:15928778,\t Memory:63715112.0,\t Inference time:69.5309134197235\n",
            "Image shape:128,\t No. of params:16846282,\t Memory:67385128.0,\t Inference time:75.96830820083618\n",
            "Image shape:160,\t No. of params:18025930,\t Memory:72103720.0,\t Inference time:81.21387701034546\n",
            "Image shape:192,\t No. of params:19467722,\t Memory:77870888.0,\t Inference time:85.80438468933106\n",
            "Image shape:224,\t No. of params:21171658,\t Memory:84686632.0,\t Inference time:91.87803682327271\n",
            "Image shape:256,\t No. of params:23137738,\t Memory:92550952.0,\t Inference time:106.56640405654908\n"
          ]
        }
      ]
    },
    {
      "cell_type": "code",
      "source": [
        "plt.plot(img_size_list, n_params_list)\n",
        "plt.xlabel(\"Image size\")\n",
        "plt.ylabel(\"No. of model parameters\")\n",
        "plt.title(\"Impact of Image size on model size - VGG16\")\n",
        "plt.show()"
      ],
      "metadata": {
        "colab": {
          "base_uri": "https://localhost:8080/",
          "height": 295
        },
        "id": "cF_F_xEVeWh1",
        "outputId": "ab8155f8-3ff7-47c6-a56f-fbc967694672"
      },
      "execution_count": null,
      "outputs": [
        {
          "output_type": "display_data",
          "data": {
            "text/plain": [
              "<Figure size 432x288 with 1 Axes>"
            ],
            "image/png": "[encoded data removed]"
          },
          "metadata": {
            "needs_background": "light"
          }
        }
      ]
    },
    {
      "cell_type": "code",
      "source": [
        "memory_list = [p * number_size for p in n_params_list]\n",
        "plt.plot(img_size_list, memory_list)\n",
        "plt.xlabel(\"Image size\")\n",
        "plt.ylabel(\"Memory (Bytes)\")\n",
        "plt.title(\"Impact of Image size on model memory - VGG16\")\n",
        "plt.show()\n",
        "\n",
        "# At max we reached 88.25 MB"
      ],
      "metadata": {
        "colab": {
          "base_uri": "https://localhost:8080/",
          "height": 295
        },
        "id": "l0TJ9k3N6Jij",
        "outputId": "9c876f8b-a066-44e2-f60e-121e6c8e9218"
      },
      "execution_count": null,
      "outputs": [
        {
          "output_type": "display_data",
          "data": {
            "text/plain": [
              "<Figure size 432x288 with 1 Axes>"
            ],
            "image/png": "[encoded data removed]"
          },
          "metadata": {
            "needs_background": "light"
          }
        }
      ]
    },
    {
      "cell_type": "code",
      "source": [
        "plt.plot(img_size_list, infer_time_list)\n",
        "plt.xlabel(\"Image size\")\n",
        "plt.ylabel(\"Inference time (ms)\")\n",
        "plt.title(\"Impact of Image size on inference time - VGG16\")\n",
        "plt.show()"
      ],
      "metadata": {
        "id": "D8dQbAqws61h",
        "outputId": "b0818292-ca5f-494c-d21d-a5cb9e86c3c9",
        "colab": {
          "base_uri": "https://localhost:8080/",
          "height": 295
        }
      },
      "execution_count": null,
      "outputs": [
        {
          "output_type": "display_data",
          "data": {
            "text/plain": [
              "<Figure size 432x288 with 1 Axes>"
            ],
            "image/png": "[encoded data removed]"
          },
          "metadata": {
            "needs_background": "light"
          }
        }
      ]
    },
    {
      "cell_type": "markdown",
      "source": [
        "## Investigating the impact layer"
      ],
      "metadata": {
        "id": "VpioFKhhkYZS"
      }
    },
    {
      "cell_type": "code",
      "source": [
        "i=1\n",
        "img_shape = (32*i, 32*i, 3) \n",
        "model = VGG16(img_shape)\n",
        "model.summary()"
      ],
      "metadata": {
        "colab": {
          "base_uri": "https://localhost:8080/"
        },
        "id": "IXTxd98XjJam",
        "outputId": "88806531-f965-4563-dfc2-a9289184150c"
      },
      "execution_count": null,
      "outputs": [
        {
          "output_type": "stream",
          "name": "stdout",
          "text": [
            "Model: \"sequential_51\"\n",
            "_________________________________________________________________\n",
            " Layer (type)                Output Shape              Param #   \n",
            "=================================================================\n",
            " conv2d_223 (Conv2D)         (None, 32, 32, 64)        1792      \n",
            "                                                                 \n",
            " conv2d_224 (Conv2D)         (None, 32, 32, 64)        36928     \n",
            "                                                                 \n",
            " max_pooling2d_124 (MaxPooli  (None, 16, 16, 64)       0         \n",
            " ng2D)                                                           \n",
            "                                                                 \n",
            " conv2d_225 (Conv2D)         (None, 16, 16, 128)       73856     \n",
            "                                                                 \n",
            " conv2d_226 (Conv2D)         (None, 16, 16, 128)       147584    \n",
            "                                                                 \n",
            " max_pooling2d_125 (MaxPooli  (None, 8, 8, 128)        0         \n",
            " ng2D)                                                           \n",
            "                                                                 \n",
            " conv2d_227 (Conv2D)         (None, 8, 8, 256)         295168    \n",
            "                                                                 \n",
            " conv2d_228 (Conv2D)         (None, 8, 8, 256)         590080    \n",
            "                                                                 \n",
            " conv2d_229 (Conv2D)         (None, 8, 8, 256)         590080    \n",
            "                                                                 \n",
            " max_pooling2d_126 (MaxPooli  (None, 4, 4, 256)        0         \n",
            " ng2D)                                                           \n",
            "                                                                 \n",
            " conv2d_230 (Conv2D)         (None, 4, 4, 512)         1180160   \n",
            "                                                                 \n",
            " conv2d_231 (Conv2D)         (None, 4, 4, 512)         2359808   \n",
            "                                                                 \n",
            " conv2d_232 (Conv2D)         (None, 4, 4, 512)         2359808   \n",
            "                                                                 \n",
            " max_pooling2d_127 (MaxPooli  (None, 2, 2, 512)        0         \n",
            " ng2D)                                                           \n",
            "                                                                 \n",
            " conv2d_233 (Conv2D)         (None, 2, 2, 512)         2359808   \n",
            "                                                                 \n",
            " conv2d_234 (Conv2D)         (None, 2, 2, 512)         2359808   \n",
            "                                                                 \n",
            " conv2d_235 (Conv2D)         (None, 2, 2, 512)         2359808   \n",
            "                                                                 \n",
            " vgg16 (MaxPooling2D)        (None, 1, 1, 512)         0         \n",
            "                                                                 \n",
            " flatten (Flatten)           (None, 512)               0         \n",
            "                                                                 \n",
            " fc1 (Dense)                 (None, 256)               131328    \n",
            "                                                                 \n",
            " fc2 (Dense)                 (None, 128)               32896     \n",
            "                                                                 \n",
            " output (Dense)              (None, 10)                1290      \n",
            "                                                                 \n",
            "=================================================================\n",
            "Total params: 14,880,202\n",
            "Trainable params: 14,880,202\n",
            "Non-trainable params: 0\n",
            "_________________________________________________________________\n"
          ]
        }
      ]
    },
    {
      "cell_type": "code",
      "source": [
        "i=4\n",
        "img_shape = (32*i, 32*i, 3) # 64 x 64\n",
        "model = VGG16(img_shape)\n",
        "model.summary()"
      ],
      "metadata": {
        "colab": {
          "base_uri": "https://localhost:8080/"
        },
        "id": "YyhAGrKLkIG8",
        "outputId": "ae90541b-8d31-4175-ddac-d748c8207087"
      },
      "execution_count": null,
      "outputs": [
        {
          "output_type": "stream",
          "name": "stdout",
          "text": [
            "Model: \"sequential_52\"\n",
            "_________________________________________________________________\n",
            " Layer (type)                Output Shape              Param #   \n",
            "=================================================================\n",
            " conv2d_236 (Conv2D)         (None, 128, 128, 64)      1792      \n",
            "                                                                 \n",
            " conv2d_237 (Conv2D)         (None, 128, 128, 64)      36928     \n",
            "                                                                 \n",
            " max_pooling2d_128 (MaxPooli  (None, 64, 64, 64)       0         \n",
            " ng2D)                                                           \n",
            "                                                                 \n",
            " conv2d_238 (Conv2D)         (None, 64, 64, 128)       73856     \n",
            "                                                                 \n",
            " conv2d_239 (Conv2D)         (None, 64, 64, 128)       147584    \n",
            "                                                                 \n",
            " max_pooling2d_129 (MaxPooli  (None, 32, 32, 128)      0         \n",
            " ng2D)                                                           \n",
            "                                                                 \n",
            " conv2d_240 (Conv2D)         (None, 32, 32, 256)       295168    \n",
            "                                                                 \n",
            " conv2d_241 (Conv2D)         (None, 32, 32, 256)       590080    \n",
            "                                                                 \n",
            " conv2d_242 (Conv2D)         (None, 32, 32, 256)       590080    \n",
            "                                                                 \n",
            " max_pooling2d_130 (MaxPooli  (None, 16, 16, 256)      0         \n",
            " ng2D)                                                           \n",
            "                                                                 \n",
            " conv2d_243 (Conv2D)         (None, 16, 16, 512)       1180160   \n",
            "                                                                 \n",
            " conv2d_244 (Conv2D)         (None, 16, 16, 512)       2359808   \n",
            "                                                                 \n",
            " conv2d_245 (Conv2D)         (None, 16, 16, 512)       2359808   \n",
            "                                                                 \n",
            " max_pooling2d_131 (MaxPooli  (None, 8, 8, 512)        0         \n",
            " ng2D)                                                           \n",
            "                                                                 \n",
            " conv2d_246 (Conv2D)         (None, 8, 8, 512)         2359808   \n",
            "                                                                 \n",
            " conv2d_247 (Conv2D)         (None, 8, 8, 512)         2359808   \n",
            "                                                                 \n",
            " conv2d_248 (Conv2D)         (None, 8, 8, 512)         2359808   \n",
            "                                                                 \n",
            " vgg16 (MaxPooling2D)        (None, 4, 4, 512)         0         \n",
            "                                                                 \n",
            " flatten (Flatten)           (None, 8192)              0         \n",
            "                                                                 \n",
            " fc1 (Dense)                 (None, 256)               2097408   \n",
            "                                                                 \n",
            " fc2 (Dense)                 (None, 128)               32896     \n",
            "                                                                 \n",
            " output (Dense)              (None, 10)                1290      \n",
            "                                                                 \n",
            "=================================================================\n",
            "Total params: 16,846,282\n",
            "Trainable params: 16,846,282\n",
            "Non-trainable params: 0\n",
            "_________________________________________________________________\n"
          ]
        }
      ]
    },
    {
      "cell_type": "code",
      "source": [
        ""
      ],
      "metadata": {
        "id": "7S0QevE382q8"
      },
      "execution_count": null,
      "outputs": []
    },
    {
      "cell_type": "markdown",
      "source": [
        "## Measure Performance and Training time"
      ],
      "metadata": {
        "id": "sty11Z6qe5E_"
      }
    },
    {
      "cell_type": "code",
      "source": [
        "# define all classes and functions\n",
        "\n",
        "class TimingCallback(keras.callbacks.Callback):\n",
        "    def __init__(self, logs={}):\n",
        "        self.logs=[]\n",
        "    def on_epoch_begin(self, epoch, logs={}):\n",
        "        self.starttime = timer()\n",
        "    def on_epoch_end(self, epoch, logs={}):\n",
        "        self.logs.append(timer()-self.starttime)\n",
        "\n",
        "# load train and test dataset\n",
        "def load_dataset():\n",
        "\t# load dataset\n",
        "\t(trainX, trainY), (testX, testY) = keras.datasets.cifar10.load_data()\n",
        "\t# one hot encode target values\n",
        "\ttrainY = keras.utils.to_categorical(trainY)\n",
        "\ttestY = keras.utils.to_categorical(testY)\n",
        "\treturn trainX, trainY, testX, testY\n",
        " \n",
        "# scale pixels\n",
        "def prep_pixels(train, test, img_size):\n",
        "    # resize the images\n",
        "    train = np.array(list(map( lambda x: tf.image.resize(x, (img_size, img_size)), train)))\n",
        "    test = np.array(list(map( lambda x: tf.image.resize(x, (img_size, img_size)), test)))\n",
        "\t# convert from integers to floats\n",
        "    train_norm = train.astype('float32')\n",
        "    test_norm = test.astype('float32')\n",
        "\t# normalize to range 0-1\n",
        "    train_norm = train_norm / 255.0\n",
        "    test_norm = test_norm / 255.0\n",
        "\t# return normalized images\n",
        "    return train_norm, test_norm\n",
        " \n",
        "# define cnn model\n",
        "def define_model(img_shape):\n",
        "\tmodel = VGG16(img_shape)\n",
        "\t# compile model\n",
        "\topt = keras.optimizers.SGD(learning_rate=0.0001, momentum=0.9)\n",
        "\tmodel.compile(optimizer=opt, loss='categorical_crossentropy', metrics=['accuracy'])\n",
        "\treturn model\n",
        " \n",
        "# plot diagnostic learning curves\n",
        "def summarize_diagnostics(history):\n",
        "\t# plot loss\n",
        "\tplt.subplot(211)\n",
        "\tplt.title('Cross Entropy Loss')\n",
        "\tplt.plot(history.history['loss'], color='blue', label='train')\n",
        "\tplt.plot(history.history['val_loss'], color='orange', label='test')\n",
        "\t# plot accuracy\n",
        "\tplt.subplot(212)\n",
        "\tplt.title('Classification Accuracy')\n",
        "\tplt.plot(history.history['accuracy'], color='blue', label='train')\n",
        "\tplt.plot(history.history['val_accuracy'], color='orange', label='test'); plt.show()\n",
        "\n",
        " \n",
        "# run the test harness for evaluating a model\n",
        "def train_n_eval(img_shape):\n",
        "\t# load dataset\n",
        "\ttrainX, trainY, testX, testY = load_dataset()\n",
        "\t# prepare pixel data\n",
        "\ttrainX, testX = prep_pixels(trainX, testX, img_shape[0])\n",
        "\t# define model\n",
        "\tmodel = define_model(img_shape)\n",
        "\t# fit model\n",
        "\thistory = model.fit(trainX, trainY, epochs=2, batch_size=64, validation_data=(testX, testY), verbose=0)\n",
        "\t# evaluate model\n",
        "\t_, acc = model.evaluate(testX, testY, verbose=0)\n",
        "\tprint('> %.3f' % (acc * 100.0))\n",
        "\t# learning curves\n",
        "\tsummarize_diagnostics(history)\n"
      ],
      "metadata": {
        "id": "Mo6ABR2Ge8nL"
      },
      "execution_count": 10,
      "outputs": []
    },
    {
      "cell_type": "code",
      "source": [
        "img_size_list = []\n",
        "acc_list = []\n",
        "train_time_list = []\n",
        "\n",
        "for i in range(0,3): #6\n",
        "    # define image shapes\n",
        "    img_shape = (32+8*i, 32+8*i, 3)\n",
        "    # load dataset\n",
        "    trainX, trainY, testX, testY = load_dataset()\n",
        "\t# prepare pixel data\n",
        "    trainX, testX = prep_pixels(trainX, testX, img_shape[0])\n",
        "    img_size_list.append(trainX.shape[1]) ## save\n",
        "\t# define model\n",
        "    model = define_model(img_shape)\n",
        "    # call back to record training time\n",
        "    cb = TimingCallback()\n",
        "\t# fit model\n",
        "    history = model.fit(trainX, trainY, epochs=30, batch_size=8, validation_data=(testX, testY), callbacks=[cb]) # , verbose=0\n",
        "\t# evaluate model\n",
        "    _, acc = model.evaluate(testX, testY, verbose=0)\n",
        "    # print('> %.3f' % (acc * 100.0))\n",
        "    print(f\"Image shape:{img_shape[0]},\\t Performance (accuracy): {acc * 100.0},\\t Training time (sec):{sum(cb.logs)}\")\n",
        "    acc_list.append(acc) ## save\n",
        "    train_time_list.append(sum(cb.logs))"
      ],
      "metadata": {
        "colab": {
          "base_uri": "https://localhost:8080/"
        },
        "id": "ck3VeTINffoL",
        "outputId": "6cdad3be-8ae6-4d1e-e71d-d7b44f93148a"
      },
      "execution_count": null,
      "outputs": [
        {
          "output_type": "stream",
          "name": "stdout",
          "text": [
            "Epoch 1/30\n",
            "   5/6250 [..............................] - ETA: 2:58 - loss: 2.3025 - accuracy: 0.1000WARNING:tensorflow:Callback method `on_train_batch_end` is slow compared to the batch time (batch time: 0.0063s vs `on_train_batch_end` time: 0.0218s). Check your callbacks.\n",
            "6250/6250 [==============================] - 138s 22ms/step - loss: 2.3023 - accuracy: 0.1077 - val_loss: 2.3019 - val_accuracy: 0.1070\n",
            "Epoch 2/30\n",
            "6250/6250 [==============================] - 140s 22ms/step - loss: 2.3014 - accuracy: 0.1201 - val_loss: 2.3005 - val_accuracy: 0.1111\n",
            "Epoch 3/30\n",
            "6250/6250 [==============================] - 140s 22ms/step - loss: 2.2976 - accuracy: 0.1403 - val_loss: 2.2910 - val_accuracy: 0.1746\n",
            "Epoch 4/30\n",
            "6250/6250 [==============================] - 138s 22ms/step - loss: 2.2307 - accuracy: 0.1702 - val_loss: 2.1344 - val_accuracy: 0.2277\n",
            "Epoch 5/30\n",
            "6250/6250 [==============================] - 140s 22ms/step - loss: 2.0211 - accuracy: 0.2514 - val_loss: 1.9366 - val_accuracy: 0.2824\n",
            "Epoch 6/30\n",
            "6250/6250 [==============================] - 140s 22ms/step - loss: 1.9151 - accuracy: 0.2907 - val_loss: 1.9188 - val_accuracy: 0.2854\n",
            "Epoch 7/30\n",
            "6250/6250 [==============================] - 141s 22ms/step - loss: 1.8005 - accuracy: 0.3371 - val_loss: 1.6852 - val_accuracy: 0.3886\n",
            "Epoch 8/30\n",
            "6250/6250 [==============================] - 138s 22ms/step - loss: 1.6830 - accuracy: 0.3851 - val_loss: 1.6011 - val_accuracy: 0.4150\n",
            "Epoch 9/30\n",
            "6250/6250 [==============================] - 138s 22ms/step - loss: 1.5937 - accuracy: 0.4201 - val_loss: 1.5511 - val_accuracy: 0.4351\n",
            "Epoch 10/30\n",
            "6250/6250 [==============================] - 138s 22ms/step - loss: 1.5256 - accuracy: 0.4503 - val_loss: 1.4644 - val_accuracy: 0.4720\n",
            "Epoch 11/30\n",
            "6250/6250 [==============================] - 138s 22ms/step - loss: 1.4646 - accuracy: 0.4696 - val_loss: 1.4406 - val_accuracy: 0.4790\n",
            "Epoch 12/30\n",
            "6250/6250 [==============================] - 140s 22ms/step - loss: 1.4043 - accuracy: 0.4936 - val_loss: 1.4467 - val_accuracy: 0.4799\n",
            "Epoch 13/30\n",
            "6250/6250 [==============================] - 138s 22ms/step - loss: 1.3470 - accuracy: 0.5174 - val_loss: 1.3523 - val_accuracy: 0.5112\n",
            "Epoch 14/30\n",
            "6250/6250 [==============================] - 140s 22ms/step - loss: 1.2876 - accuracy: 0.5366 - val_loss: 1.2895 - val_accuracy: 0.5422\n",
            "Epoch 15/30\n",
            "6250/6250 [==============================] - 138s 22ms/step - loss: 1.2302 - accuracy: 0.5604 - val_loss: 1.2731 - val_accuracy: 0.5526\n",
            "Epoch 16/30\n",
            "6250/6250 [==============================] - 140s 22ms/step - loss: 1.1693 - accuracy: 0.5827 - val_loss: 1.2130 - val_accuracy: 0.5654\n",
            "Epoch 17/30\n",
            "6250/6250 [==============================] - 141s 23ms/step - loss: 1.1116 - accuracy: 0.6033 - val_loss: 1.2166 - val_accuracy: 0.5695\n",
            "Epoch 18/30\n",
            "6250/6250 [==============================] - 140s 22ms/step - loss: 1.0507 - accuracy: 0.6281 - val_loss: 1.2014 - val_accuracy: 0.5694\n",
            "Epoch 19/30\n",
            "6250/6250 [==============================] - 139s 22ms/step - loss: 0.9880 - accuracy: 0.6483 - val_loss: 1.1874 - val_accuracy: 0.5852\n",
            "Epoch 20/30\n",
            "6250/6250 [==============================] - 140s 22ms/step - loss: 0.9186 - accuracy: 0.6751 - val_loss: 1.1660 - val_accuracy: 0.6031\n",
            "Epoch 21/30\n",
            "6250/6250 [==============================] - 141s 23ms/step - loss: 0.8504 - accuracy: 0.6968 - val_loss: 1.1966 - val_accuracy: 0.5930\n",
            "Epoch 22/30\n",
            "6250/6250 [==============================] - 139s 22ms/step - loss: 0.7719 - accuracy: 0.7250 - val_loss: 1.1581 - val_accuracy: 0.6096\n",
            "Epoch 23/30\n",
            "6250/6250 [==============================] - 141s 23ms/step - loss: 0.6965 - accuracy: 0.7514 - val_loss: 1.2718 - val_accuracy: 0.5992\n",
            "Epoch 24/30\n",
            "6250/6250 [==============================] - 139s 22ms/step - loss: 0.6094 - accuracy: 0.7815 - val_loss: 1.2570 - val_accuracy: 0.6096\n",
            "Epoch 25/30\n",
            "6250/6250 [==============================] - 141s 23ms/step - loss: 0.5250 - accuracy: 0.8130 - val_loss: 1.3358 - val_accuracy: 0.5971\n",
            "Epoch 26/30\n",
            "6250/6250 [==============================] - 142s 23ms/step - loss: 0.4403 - accuracy: 0.8439 - val_loss: 1.4801 - val_accuracy: 0.5919\n",
            "Epoch 27/30\n",
            "6250/6250 [==============================] - 141s 23ms/step - loss: 0.3765 - accuracy: 0.8638 - val_loss: 1.5513 - val_accuracy: 0.5886\n",
            "Epoch 28/30\n",
            "6250/6250 [==============================] - 141s 23ms/step - loss: 0.3144 - accuracy: 0.8867 - val_loss: 1.6895 - val_accuracy: 0.5888\n",
            "Epoch 29/30\n",
            "6250/6250 [==============================] - 141s 23ms/step - loss: 0.2559 - accuracy: 0.9097 - val_loss: 1.5831 - val_accuracy: 0.6109\n",
            "Epoch 30/30\n",
            "6250/6250 [==============================] - 139s 22ms/step - loss: 0.2128 - accuracy: 0.9246 - val_loss: 1.9715 - val_accuracy: 0.5943\n",
            "Image shape:32,\t Performance (accuracy): 59.42999720573425,\t Training time (sec):4193.301890364\n",
            "Epoch 1/30\n",
            "   4/6250 [..............................] - ETA: 2:24 - loss: 2.3025 - accuracy: 0.0938   WARNING:tensorflow:Callback method `on_train_batch_end` is slow compared to the batch time (batch time: 0.0062s vs `on_train_batch_end` time: 0.0135s). Check your callbacks.\n",
            "6250/6250 [==============================] - 158s 25ms/step - loss: 2.3025 - accuracy: 0.1024 - val_loss: 2.3022 - val_accuracy: 0.1129\n",
            "Epoch 2/30\n",
            "6250/6250 [==============================] - 157s 25ms/step - loss: 2.3021 - accuracy: 0.1129 - val_loss: 2.3016 - val_accuracy: 0.1419\n",
            "Epoch 3/30\n",
            "6250/6250 [==============================] - 156s 25ms/step - loss: 2.3009 - accuracy: 0.1312 - val_loss: 2.2993 - val_accuracy: 0.1822\n",
            "Epoch 4/30\n",
            "6250/6250 [==============================] - 156s 25ms/step - loss: 2.2930 - accuracy: 0.1773 - val_loss: 2.2765 - val_accuracy: 0.1888\n",
            "Epoch 5/30\n",
            "6250/6250 [==============================] - 156s 25ms/step - loss: 2.1577 - accuracy: 0.2050 - val_loss: 2.0053 - val_accuracy: 0.2598\n",
            "Epoch 6/30\n",
            "1185/6250 [====>.........................] - ETA: 1:57 - loss: 2.0203 - accuracy: 0.2465"
          ]
        }
      ]
    },
    {
      "cell_type": "code",
      "source": [
        "plt.plot(img_size_list, acc_list)\n",
        "plt.xlabel(\"Image size\")\n",
        "plt.ylabel(\"Accuracy (%)\")\n",
        "plt.title(\"Impact of Image size on model accuracy - VGG\")\n",
        "plt.show()"
      ],
      "metadata": {
        "id": "67fv66iAgbqr"
      },
      "execution_count": null,
      "outputs": []
    },
    {
      "cell_type": "code",
      "source": [
        "plt.plot(img_size_list, train_time_list)\n",
        "plt.xlabel(\"Image size\")\n",
        "plt.ylabel(\"Train time (sec)\")\n",
        "plt.title(\"Impact of Image size on training time - VGG\")\n",
        "plt.show()"
      ],
      "metadata": {
        "id": "C-4N5tPNghLg"
      },
      "execution_count": null,
      "outputs": []
    },
    {
      "cell_type": "code",
      "source": [
        "perf_change = [ ((acc_list[i] - acc_list[i-1])/acc_list[i-1])*100  for i in range(1, len(acc_list))]\n",
        "time_change = [ ((train_time_list[i] - train_time_list[i-1])/train_time_list[i-1])*100  for i in range(1, len(train_time_list))]\n",
        "\n",
        "perf_change.insert(0, 0) # no improvement at index 0\n",
        "time_change.insert(0, 0)"
      ],
      "metadata": {
        "id": "bXWAjWW_uZba"
      },
      "execution_count": null,
      "outputs": []
    },
    {
      "cell_type": "code",
      "source": [
        "plt.plot(img_size_list, perf_change)\n",
        "plt.xlabel(\"Image size\")\n",
        "plt.ylabel(\"Accuracy change (%)\")\n",
        "plt.title(\"Impact of Image size on model accuracy (change) - VGG\")\n",
        "plt.show()"
      ],
      "metadata": {
        "id": "3GF_g87FvlJ4"
      },
      "execution_count": null,
      "outputs": []
    },
    {
      "cell_type": "code",
      "source": [
        "plt.plot(img_size_list, time_change)\n",
        "plt.xlabel(\"Image size\")\n",
        "plt.ylabel(\"Train change (%)\")\n",
        "plt.title(\"Impact of Image size on training time (change) - VGG\")\n",
        "plt.show()"
      ],
      "metadata": {
        "id": "UCMKa6b-vuIL"
      },
      "execution_count": null,
      "outputs": []
    }
  ],
  "metadata": {
    "language_info": {
      "name": "python"
    },
    "orig_nbformat": 4,
    "colab": {
      "name": "img_impact_on_model.ipynb",
      "provenance": []
    },
    "kernelspec": {
      "name": "python3",
      "display_name": "Python 3"
    },
    "accelerator": "GPU"
  },
  "nbformat": 4,
  "nbformat_minor": 0
}