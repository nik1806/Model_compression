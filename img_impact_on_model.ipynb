{
  "cells": [
    {
      "cell_type": "code",
      "execution_count": 2,
      "metadata": {
        "id": "gtCGsUUpY2hV"
      },
      "outputs": [],
      "source": [
        "import numpy as np\n",
        "import tensorflow as tf\n",
        "from tensorflow import keras\n",
        "import matplotlib.pyplot as plt\n",
        "%matplotlib inline"
      ]
    },
    {
      "cell_type": "code",
      "source": [
        "def create_LeNet(image_size = (28, 28)):\n",
        "    model = tf.keras.Sequential([\n",
        "        # tf.keras.layers.Rescaling(1./255),\n",
        "        keras.layers.Conv2D(filters=6, kernel_size=5, strides=1, input_shape = image_size, activation=\"relu\"), # param increase here\n",
        "        keras.layers.MaxPooling2D(pool_size = 2, strides = 2),\n",
        "        keras.layers.Conv2D(16, 5, 1, activation='relu'),\n",
        "        keras.layers.MaxPooling2D(pool_size = 2, strides = 2),\n",
        "        keras.layers.Flatten(),\n",
        "        keras.layers.Dense(120, activation='relu'), # param increase here\n",
        "        keras.layers.Dense(84, activation='relu'),\n",
        "        keras.layers.Dense(10, activation='softmax')\n",
        "    ])\n",
        "    return model"
      ],
      "metadata": {
        "id": "iQ9u2YWefcqN"
      },
      "execution_count": 37,
      "outputs": []
    },
    {
      "cell_type": "code",
      "source": [
        "img_size_list = []\n",
        "n_params_list = []\n",
        "\n",
        "for i in range(1,16):\n",
        "    # dummy image\n",
        "    img_shape = (32*i, 32*i, 3)\n",
        "    img = np.random.randint(0, 255, img_shape)\n",
        "    img_expanded = np.expand_dims(img, axis=0)\n",
        "    # built-in model - doesn't change no. of parameters with image shape \n",
        "    # processed_img = tf.keras.applications.vgg16.preprocess_input(img_expanded) \n",
        "    # model = tf.keras.applications.VGG16(input_shape = img_shape, classes=10, include_top=False, weights=None)\n",
        "    # custom model\n",
        "    model = create_LeNet(img_shape)\n",
        "    model.predict(img_expanded)\n",
        "    # get model stats\n",
        "    n_params = model.count_params()\n",
        "    print(f\"Image shape:{img_shape[0]}, No. of params:{n_params}\")\n",
        "    # append to list\n",
        "    img_size_list.append(img_shape[0])\n",
        "    n_params_list.append(n_params)"
      ],
      "metadata": {
        "id": "amkZ9y-mZ938",
        "outputId": "000e9dd5-ab31-4007-eb23-35b0c97efeee",
        "colab": {
          "base_uri": "https://localhost:8080/"
        }
      },
      "execution_count": 38,
      "outputs": [
        {
          "output_type": "stream",
          "name": "stdout",
          "text": [
            "Image shape:32, No. of params:62006\n",
            "Image shape:64, No. of params:338486\n",
            "Image shape:96, No. of params:860726\n",
            "Image shape:128, No. of params:1628726\n",
            "Image shape:160, No. of params:2642486\n",
            "Image shape:192, No. of params:3902006\n",
            "Image shape:224, No. of params:5407286\n",
            "Image shape:256, No. of params:7158326\n",
            "Image shape:288, No. of params:9155126\n",
            "Image shape:320, No. of params:11397686\n",
            "Image shape:352, No. of params:13886006\n",
            "Image shape:384, No. of params:16620086\n",
            "Image shape:416, No. of params:19599926\n",
            "Image shape:448, No. of params:22825526\n",
            "Image shape:480, No. of params:26296886\n"
          ]
        }
      ]
    },
    {
      "cell_type": "code",
      "source": [
        "plt.plot(img_size_list, n_params_list)\n",
        "plt.xlabel(\"Image size\")\n",
        "plt.ylabel(\"No. of model parameters\")\n",
        "plt.title(\"Impact of Image size on model size - LeNet\")\n",
        "plt.show()"
      ],
      "metadata": {
        "id": "cF_F_xEVeWh1",
        "outputId": "02cf9c55-41a7-410f-e22b-a427815c7755",
        "colab": {
          "base_uri": "https://localhost:8080/",
          "height": 295
        }
      },
      "execution_count": 39,
      "outputs": [
        {
          "output_type": "display_data",
          "data": {
            "text/plain": [
              "<Figure size 432x288 with 1 Axes>"
            ],
            "image/png": "[encoded data removed]"
          },
          "metadata": {
            "needs_background": "light"
          }
        }
      ]
    },
    {
      "cell_type": "code",
      "source": [
        ""
      ],
      "metadata": {
        "id": "IXTxd98XjJam"
      },
      "execution_count": null,
      "outputs": []
    }
  ],
  "metadata": {
    "language_info": {
      "name": "python"
    },
    "orig_nbformat": 4,
    "colab": {
      "name": "img_impact_on_model.ipynb",
      "provenance": []
    },
    "kernelspec": {
      "name": "python3",
      "display_name": "Python 3"
    },
    "accelerator": "GPU"
  },
  "nbformat": 4,
  "nbformat_minor": 0
}