{
 "cells": [
  {
   "cell_type": "code",
   "execution_count": null,
   "metadata": {},
   "outputs": [],
   "source": [
    "import numpy as np\n",
    "import tensorflow as tf\n",
    "from tensorflow import keras\n",
    "import matplotlib.pyplot as plt\n",
    "%matplotlib inline"
   ]
  },
  {
   "cell_type": "code",
   "execution_count": null,
   "metadata": {},
   "outputs": [],
   "source": [
    "# dummy image\n",
    "img_size = (32, 32, 3)\n",
    "img = np.random.randint(0, 255, img_size)\n",
    "# img_expanded = np.expand_dims(img, axis=0)\n",
    "processed_img = tf.keras.applications.mobilenet.preprocess_input(img)"
   ]
  },
  {
   "cell_type": "code",
   "execution_count": null,
   "metadata": {},
   "outputs": [],
   "source": [
    "# model\n",
    "model = tf.keras.applications.mobilenet.MobileNet(input_shape = processed_img.shape, classes=10, include_top=False)\n"
   ]
  },
  {
   "cell_type": "code",
   "execution_count": null,
   "metadata": {},
   "outputs": [],
   "source": [
    "# get summary statics\n",
    "pred = model.predict(processed_img)\n",
    "model.summary()\n",
    "n_params = model.count_params()\n",
    "print(f\"Image shape:{processed_img.shape}, No. of params:{n_params}\")"
   ]
  }
 ],
 "metadata": {
  "language_info": {
   "name": "python"
  },
  "orig_nbformat": 4
 },
 "nbformat": 4,
 "nbformat_minor": 2
}
