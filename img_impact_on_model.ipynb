{
  "cells": [
    {
      "cell_type": "code",
      "execution_count": 55,
      "metadata": {
        "id": "gtCGsUUpY2hV"
      },
      "outputs": [],
      "source": [
        "import numpy as np\n",
        "import tensorflow as tf\n",
        "from tensorflow import keras, profiler\n",
        "import time\n",
        "import matplotlib.pyplot as plt\n",
        "import torch\n",
        "%matplotlib inline"
      ]
    },
    {
      "cell_type": "code",
      "source": [
        "def create_LeNet(image_size = (28, 28)):\n",
        "    model = tf.keras.Sequential([\n",
        "        # tf.keras.layers.Rescaling(1./255),\n",
        "        keras.layers.Conv2D(filters=6, kernel_size=5, strides=1, input_shape = image_size, activation=\"relu\"), \n",
        "        keras.layers.MaxPooling2D(pool_size = 2, strides = 2),\n",
        "        keras.layers.Conv2D(16, 5, 1, activation='relu'),\n",
        "        keras.layers.MaxPooling2D(pool_size = 2, strides = 2),\n",
        "        keras.layers.Flatten(),\n",
        "        keras.layers.Dense(120, activation='relu'), # param increase here\n",
        "        keras.layers.Dense(84, activation='relu'),\n",
        "        keras.layers.Dense(10, activation='softmax')\n",
        "    ])\n",
        "    return model"
      ],
      "metadata": {
        "id": "iQ9u2YWefcqN"
      },
      "execution_count": 56,
      "outputs": []
    },
    {
      "cell_type": "code",
      "source": [
        "# This function consider synchronous execution and GPU aspects to measure time more accurately\n",
        "\n",
        "def profile_inf_time(img_expanded, model):\n",
        "    starter, ender = torch.cuda.Event(enable_timing=True), torch.cuda.Event(enable_timing=True)\n",
        "    repetitions = 300\n",
        "    timings=np.zeros((repetitions,1))\n",
        "    #GPU-WARM-UP\n",
        "    for _ in range(10):\n",
        "        _ = model.predict(img_expanded)\n",
        "    # MEASURE PERFORMANCE\n",
        "    for rep in range(repetitions):\n",
        "        starter.record()\n",
        "        _ = model.predict(img_expanded)\n",
        "        ender.record()\n",
        "        # WAIT FOR GPU SYNC\n",
        "        torch.cuda.synchronize()\n",
        "        curr_time = starter.elapsed_time(ender)\n",
        "        timings[rep] = curr_time\n",
        "    mean_syn = np.sum(timings) / repetitions\n",
        "    std_syn = np.std(timings)\n",
        "    time.sleep(1) # to avoid interference between each execution\n",
        "    return mean_syn"
      ],
      "metadata": {
        "id": "UYPLZceUrkNX"
      },
      "execution_count": 61,
      "outputs": []
    },
    {
      "cell_type": "code",
      "source": [
        "img_size_list = []\n",
        "n_params_list = []\n",
        "infer_time_list = []\n",
        "\n",
        "for i in range(1,16):\n",
        "    # dummy image\n",
        "    img_shape = (32*i, 32*i, 3)\n",
        "    img = np.random.randint(0, 255, img_shape)\n",
        "    img_expanded = np.expand_dims(img, axis=0)\n",
        "    # built-in model - doesn't change no. of parameters with image shape \n",
        "    # processed_img = tf.keras.applications.vgg16.preprocess_input(img_expanded) \n",
        "    # model = tf.keras.applications.VGG16(input_shape = img_shape, classes=10, include_top=False, weights=None)\n",
        "    # custom model\n",
        "    model = create_LeNet(img_shape)\n",
        "    curr_time = profile_inf_time(img_expanded, model)\n",
        "    # get model stats\n",
        "    n_params = model.count_params()\n",
        "    print(f\"Image shape:{img_shape[0]}, No. of params:{n_params}, Inference time:{curr_time}\")\n",
        "    # append to list\n",
        "    img_size_list.append(img_shape[0])\n",
        "    n_params_list.append(n_params)\n",
        "    infer_time_list.append(curr_time)"
      ],
      "metadata": {
        "colab": {
          "base_uri": "https://localhost:8080/"
        },
        "id": "amkZ9y-mZ938",
        "outputId": "65b4f6f6-d0bc-486c-e0bf-d0a4cf6562b4"
      },
      "execution_count": 62,
      "outputs": [
        {
          "output_type": "stream",
          "name": "stdout",
          "text": [
            "Image shape:32, No. of params:62006, Inference time:53.192861760457355\n",
            "Image shape:64, No. of params:338486, Inference time:55.008311398824056\n",
            "Image shape:96, No. of params:860726, Inference time:54.231912218729654\n",
            "Image shape:128, No. of params:1628726, Inference time:57.490130767822265\n",
            "Image shape:160, No. of params:2642486, Inference time:55.63488740285238\n",
            "Image shape:192, No. of params:3902006, Inference time:55.48487214406332\n",
            "Image shape:224, No. of params:5407286, Inference time:56.71865041097005\n",
            "Image shape:256, No. of params:7158326, Inference time:56.958253122965495\n",
            "Image shape:288, No. of params:9155126, Inference time:56.69167215983073\n",
            "Image shape:320, No. of params:11397686, Inference time:58.63390240987142\n",
            "Image shape:352, No. of params:13886006, Inference time:62.64535302480062\n",
            "Image shape:384, No. of params:16620086, Inference time:64.5068664932251\n",
            "Image shape:416, No. of params:19599926, Inference time:66.19555327097575\n",
            "Image shape:448, No. of params:22825526, Inference time:67.74537000020345\n",
            "Image shape:480, No. of params:26296886, Inference time:70.99004521687826\n"
          ]
        }
      ]
    },
    {
      "cell_type": "code",
      "source": [
        "plt.plot(img_size_list, n_params_list)\n",
        "plt.xlabel(\"Image size\")\n",
        "plt.ylabel(\"No. of model parameters\")\n",
        "plt.title(\"Impact of Image size on model size - LeNet\")\n",
        "plt.show()"
      ],
      "metadata": {
        "colab": {
          "base_uri": "https://localhost:8080/",
          "height": 295
        },
        "id": "cF_F_xEVeWh1",
        "outputId": "366e96ad-c633-462b-ab84-4f573885bcb7"
      },
      "execution_count": 63,
      "outputs": [
        {
          "output_type": "display_data",
          "data": {
            "text/plain": [
              "<Figure size 432x288 with 1 Axes>"
            ],
            "image/png": "[encoded data removed]"
          },
          "metadata": {
            "needs_background": "light"
          }
        }
      ]
    },
    {
      "cell_type": "code",
      "source": [
        "plt.plot(img_size_list[1:], infer_time_list[1:])\n",
        "plt.xlabel(\"Image size\")\n",
        "plt.ylabel(\"Inference time \")\n",
        "plt.title(\"Impact of Image size on inference time - LeNet\")\n",
        "plt.show()"
      ],
      "metadata": {
        "id": "D8dQbAqws61h",
        "outputId": "27c943a6-e63e-4a52-8f23-ec0d6d717199",
        "colab": {
          "base_uri": "https://localhost:8080/",
          "height": 295
        }
      },
      "execution_count": 64,
      "outputs": [
        {
          "output_type": "display_data",
          "data": {
            "text/plain": [
              "<Figure size 432x288 with 1 Axes>"
            ],
            "image/png": "[encoded data removed]"
          },
          "metadata": {
            "needs_background": "light"
          }
        }
      ]
    },
    {
      "cell_type": "markdown",
      "source": [
        "### Investigating the impact layer"
      ],
      "metadata": {
        "id": "VpioFKhhkYZS"
      }
    },
    {
      "cell_type": "code",
      "source": [
        "i=1\n",
        "img_shape = (32*i, 32*i, 3)\n",
        "model = create_LeNet(img_shape)\n",
        "model.summary()"
      ],
      "metadata": {
        "colab": {
          "base_uri": "https://localhost:8080/"
        },
        "id": "IXTxd98XjJam",
        "outputId": "5b9139d1-3b58-4b18-d604-3e8e59f0b57d"
      },
      "execution_count": 40,
      "outputs": [
        {
          "output_type": "stream",
          "name": "stdout",
          "text": [
            "Model: \"sequential_66\"\n",
            "_________________________________________________________________\n",
            " Layer (type)                Output Shape              Param #   \n",
            "=================================================================\n",
            " conv2d_96 (Conv2D)          (None, 28, 28, 6)         456       \n",
            "                                                                 \n",
            " max_pooling2d_96 (MaxPoolin  (None, 14, 14, 6)        0         \n",
            " g2D)                                                            \n",
            "                                                                 \n",
            " conv2d_97 (Conv2D)          (None, 10, 10, 16)        2416      \n",
            "                                                                 \n",
            " max_pooling2d_97 (MaxPoolin  (None, 5, 5, 16)         0         \n",
            " g2D)                                                            \n",
            "                                                                 \n",
            " flatten_66 (Flatten)        (None, 400)               0         \n",
            "                                                                 \n",
            " dense_216 (Dense)           (None, 120)               48120     \n",
            "                                                                 \n",
            " dense_217 (Dense)           (None, 84)                10164     \n",
            "                                                                 \n",
            " dense_218 (Dense)           (None, 10)                850       \n",
            "                                                                 \n",
            "=================================================================\n",
            "Total params: 62,006\n",
            "Trainable params: 62,006\n",
            "Non-trainable params: 0\n",
            "_________________________________________________________________\n"
          ]
        }
      ]
    },
    {
      "cell_type": "code",
      "source": [
        "i=4\n",
        "img_shape = (32*i, 32*i, 3)\n",
        "model = create_LeNet(img_shape)\n",
        "model.summary()"
      ],
      "metadata": {
        "colab": {
          "base_uri": "https://localhost:8080/"
        },
        "id": "YyhAGrKLkIG8",
        "outputId": "74034f41-beb0-4f5f-aff4-baf17c685200"
      },
      "execution_count": 41,
      "outputs": [
        {
          "output_type": "stream",
          "name": "stdout",
          "text": [
            "Model: \"sequential_67\"\n",
            "_________________________________________________________________\n",
            " Layer (type)                Output Shape              Param #   \n",
            "=================================================================\n",
            " conv2d_98 (Conv2D)          (None, 124, 124, 6)       456       \n",
            "                                                                 \n",
            " max_pooling2d_98 (MaxPoolin  (None, 62, 62, 6)        0         \n",
            " g2D)                                                            \n",
            "                                                                 \n",
            " conv2d_99 (Conv2D)          (None, 58, 58, 16)        2416      \n",
            "                                                                 \n",
            " max_pooling2d_99 (MaxPoolin  (None, 29, 29, 16)       0         \n",
            " g2D)                                                            \n",
            "                                                                 \n",
            " flatten_67 (Flatten)        (None, 13456)             0         \n",
            "                                                                 \n",
            " dense_219 (Dense)           (None, 120)               1614840   \n",
            "                                                                 \n",
            " dense_220 (Dense)           (None, 84)                10164     \n",
            "                                                                 \n",
            " dense_221 (Dense)           (None, 10)                850       \n",
            "                                                                 \n",
            "=================================================================\n",
            "Total params: 1,628,726\n",
            "Trainable params: 1,628,726\n",
            "Non-trainable params: 0\n",
            "_________________________________________________________________\n"
          ]
        }
      ]
    }
  ],
  "metadata": {
    "language_info": {
      "name": "python"
    },
    "orig_nbformat": 4,
    "colab": {
      "name": "img_impact_on_model.ipynb",
      "provenance": []
    },
    "kernelspec": {
      "name": "python3",
      "display_name": "Python 3"
    },
    "accelerator": "GPU"
  },
  "nbformat": 4,
  "nbformat_minor": 0
}