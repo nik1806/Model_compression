{
  "cells": [
    {
      "cell_type": "code",
      "execution_count": 1,
      "metadata": {
        "id": "gtCGsUUpY2hV"
      },
      "outputs": [],
      "source": [
        "import numpy as np\n",
        "import tensorflow as tf\n",
        "from tensorflow import keras, profiler\n",
        "from tensorflow.keras import backend as K\n",
        "import matplotlib.pyplot as plt\n",
        "import time\n",
        "import torch\n",
        "from timeit import default_timer as timer\n",
        "%matplotlib inline"
      ]
    },
    {
      "cell_type": "markdown",
      "source": [
        "## Define models and useful functions\n",
        "\n"
      ],
      "metadata": {
        "id": "aWESH41sAQZj"
      }
    },
    {
      "cell_type": "code",
      "source": [
        "# define model architecture\n",
        "\n",
        "def create_LeNet(image_size = (28, 28)):\n",
        "    model = tf.keras.Sequential([\n",
        "        # tf.keras.layers.Rescaling(1./255),\n",
        "        keras.layers.Conv2D(filters=6, kernel_size=5, strides=1, input_shape = image_size, activation=\"relu\"), \n",
        "        keras.layers.MaxPooling2D(pool_size = 2, strides = 2),\n",
        "        keras.layers.Conv2D(16, 5, 1, activation='relu'),\n",
        "        keras.layers.MaxPooling2D(pool_size = 2, strides = 2),\n",
        "        keras.layers.Flatten(),\n",
        "        keras.layers.Dense(120, activation='relu'), # param increase here\n",
        "        keras.layers.Dense(84, activation='relu'),\n",
        "        keras.layers.Dense(10, activation='softmax')\n",
        "    ])\n",
        "    return model"
      ],
      "metadata": {
        "id": "iQ9u2YWefcqN"
      },
      "execution_count": 2,
      "outputs": []
    },
    {
      "cell_type": "code",
      "source": [
        "# This function consider synchronous execution and GPU aspects to measure time more accurately\n",
        "\n",
        "def profile_inf_time(img_expanded, model):\n",
        "    starter, ender = torch.cuda.Event(enable_timing=True), torch.cuda.Event(enable_timing=True)\n",
        "    repetitions = 400\n",
        "    timings=np.zeros((repetitions,1))\n",
        "    #GPU-WARM-UP\n",
        "    for _ in range(10):\n",
        "        _ = model.predict(img_expanded)\n",
        "    # MEASURE PERFORMANCE\n",
        "    for rep in range(repetitions):\n",
        "        starter.record()\n",
        "        _ = model.predict(img_expanded)\n",
        "        ender.record()\n",
        "        # WAIT FOR GPU SYNC\n",
        "        torch.cuda.synchronize()\n",
        "        curr_time = starter.elapsed_time(ender)\n",
        "        timings[rep] = curr_time\n",
        "    mean_syn = np.sum(timings) / repetitions\n",
        "    std_syn = np.std(timings)\n",
        "    time.sleep(1) # to avoid interference between each execution\n",
        "    return mean_syn"
      ],
      "metadata": {
        "id": "UYPLZceUrkNX"
      },
      "execution_count": 3,
      "outputs": []
    },
    {
      "cell_type": "code",
      "source": [
        "# determine the memory in bytes\n",
        "number_size = 4.0 # default 'float32' -> memory = 4 Bytes\n",
        "if K.floatx() == 'float16':\n",
        "        number_size = 2.0\n",
        "if K.floatx() == 'float64':\n",
        "        number_size = 8.0"
      ],
      "metadata": {
        "id": "j_g8DdKS3v0P"
      },
      "execution_count": null,
      "outputs": []
    },
    {
      "cell_type": "markdown",
      "source": [
        "## Measure no. of parameters, model memory size and inference time"
      ],
      "metadata": {
        "id": "Y7lXjW2qALIa"
      }
    },
    {
      "cell_type": "code",
      "source": [
        "img_size_list = []\n",
        "n_params_list = []\n",
        "infer_time_list = []\n",
        "\n",
        "for i in range(1,17):\n",
        "    # dummy image\n",
        "    img_shape = (16*i, 16*i, 3)\n",
        "    img = np.random.randint(0, 255, img_shape)\n",
        "    img_expanded = np.expand_dims(img, axis=0)\n",
        "    # built-in model - doesn't change no. of parameters with image shape \n",
        "    # processed_img = tf.keras.applications.vgg16.preprocess_input(img_expanded) \n",
        "    # model = tf.keras.applications.VGG16(input_shape = img_shape, classes=10, include_top=False, weights=None)\n",
        "    # custom model\n",
        "    model = create_LeNet(img_shape)\n",
        "    curr_time = profile_inf_time(img_expanded, model)\n",
        "    # get model stats\n",
        "    n_params = model.count_params()\n",
        "    print(f\"Image shape:{img_shape[0]},\\t No. of params:{n_params},\\t Memory:{n_params * number_size},\\t Inference time:{curr_time}\")\n",
        "    # append to list\n",
        "    img_size_list.append(img_shape[0])\n",
        "    n_params_list.append(n_params)\n",
        "    infer_time_list.append(curr_time)"
      ],
      "metadata": {
        "colab": {
          "base_uri": "https://localhost:8080/"
        },
        "id": "amkZ9y-mZ938",
        "outputId": "22ae5383-a70d-40db-c4e9-9e9b20847b3c"
      },
      "execution_count": null,
      "outputs": [
        {
          "output_type": "stream",
          "name": "stdout",
          "text": [
            "Image shape:16,\t No. of params:15926,\t Memory:63704.0,\t Inference time:50.71701790809632\n",
            "Image shape:32,\t No. of params:62006,\t Memory:248024.0,\t Inference time:51.974321126937866\n",
            "Image shape:48,\t No. of params:169526,\t Memory:678104.0,\t Inference time:52.7136953163147\n",
            "Image shape:64,\t No. of params:338486,\t Memory:1353944.0,\t Inference time:52.454078893661496\n",
            "Image shape:80,\t No. of params:568886,\t Memory:2275544.0,\t Inference time:52.001128349304196\n",
            "Image shape:96,\t No. of params:860726,\t Memory:3442904.0,\t Inference time:52.19270341873169\n",
            "Image shape:112,\t No. of params:1214006,\t Memory:4856024.0,\t Inference time:52.31022965431213\n",
            "Image shape:128,\t No. of params:1628726,\t Memory:6514904.0,\t Inference time:52.99599234580994\n",
            "Image shape:144,\t No. of params:2104886,\t Memory:8419544.0,\t Inference time:52.88547499656677\n",
            "Image shape:160,\t No. of params:2642486,\t Memory:10569944.0,\t Inference time:53.47613292694092\n",
            "Image shape:176,\t No. of params:3241526,\t Memory:12966104.0,\t Inference time:51.71198454856872\n",
            "Image shape:192,\t No. of params:3902006,\t Memory:15608024.0,\t Inference time:52.83362731933594\n",
            "Image shape:208,\t No. of params:4623926,\t Memory:18495704.0,\t Inference time:52.32000624656677\n",
            "Image shape:224,\t No. of params:5407286,\t Memory:21629144.0,\t Inference time:53.39570509910583\n",
            "Image shape:240,\t No. of params:6252086,\t Memory:25008344.0,\t Inference time:52.9130942440033\n",
            "Image shape:256,\t No. of params:7158326,\t Memory:28633304.0,\t Inference time:53.75927550315857\n"
          ]
        }
      ]
    },
    {
      "cell_type": "code",
      "source": [
        "plt.plot(img_size_list, n_params_list)\n",
        "plt.xlabel(\"Image size\")\n",
        "plt.ylabel(\"No. of model parameters\")\n",
        "plt.title(\"Impact of Image size on model size - LeNet\")\n",
        "plt.show()"
      ],
      "metadata": {
        "colab": {
          "base_uri": "https://localhost:8080/",
          "height": 295
        },
        "id": "cF_F_xEVeWh1",
        "outputId": "c32f680f-20a5-41f8-c963-d27ffe8c3102"
      },
      "execution_count": null,
      "outputs": [
        {
          "output_type": "display_data",
          "data": {
            "text/plain": [
              "<Figure size 432x288 with 1 Axes>"
            ],
            "image/png": "[encoded data removed]"
          },
          "metadata": {
            "needs_background": "light"
          }
        }
      ]
    },
    {
      "cell_type": "code",
      "source": [
        "memory_list = [p * number_size for p in n_params_list]\n",
        "plt.plot(img_size_list, memory_list)\n",
        "plt.xlabel(\"Image size\")\n",
        "plt.ylabel(\"Memory (Bytes)\")\n",
        "plt.title(\"Impact of Image size on model memory - LeNet\")\n",
        "plt.show()"
      ],
      "metadata": {
        "id": "l0TJ9k3N6Jij",
        "outputId": "555e26b7-76a3-4975-dd2a-3c1bc1c1f58a",
        "colab": {
          "base_uri": "https://localhost:8080/",
          "height": 295
        }
      },
      "execution_count": null,
      "outputs": [
        {
          "output_type": "display_data",
          "data": {
            "text/plain": [
              "<Figure size 432x288 with 1 Axes>"
            ],
            "image/png": "[encoded data removed]"
          },
          "metadata": {
            "needs_background": "light"
          }
        }
      ]
    },
    {
      "cell_type": "code",
      "source": [
        "plt.plot(img_size_list, infer_time_list)\n",
        "plt.xlabel(\"Image size\")\n",
        "plt.ylabel(\"Inference time \")\n",
        "plt.title(\"Impact of Image size on inference time - LeNet\")\n",
        "plt.show()"
      ],
      "metadata": {
        "id": "D8dQbAqws61h",
        "outputId": "ae13f085-e766-4291-dbcf-8165e8210a29",
        "colab": {
          "base_uri": "https://localhost:8080/",
          "height": 295
        }
      },
      "execution_count": null,
      "outputs": [
        {
          "output_type": "display_data",
          "data": {
            "text/plain": [
              "<Figure size 432x288 with 1 Axes>"
            ],
            "image/png": "[encoded data removed]"
          },
          "metadata": {
            "needs_background": "light"
          }
        }
      ]
    },
    {
      "cell_type": "markdown",
      "source": [
        "## Investigating the impact layer"
      ],
      "metadata": {
        "id": "VpioFKhhkYZS"
      }
    },
    {
      "cell_type": "code",
      "source": [
        "i=1\n",
        "img_shape = (16*i, 16*i, 3) # 64 x 64\n",
        "model = create_LeNet(img_shape)\n",
        "model.summary()"
      ],
      "metadata": {
        "colab": {
          "base_uri": "https://localhost:8080/"
        },
        "id": "IXTxd98XjJam",
        "outputId": "bad21505-048a-421e-ab79-eac6d5e6eb2b"
      },
      "execution_count": null,
      "outputs": [
        {
          "output_type": "stream",
          "name": "stdout",
          "text": [
            "Model: \"sequential_38\"\n",
            "_________________________________________________________________\n",
            " Layer (type)                Output Shape              Param #   \n",
            "=================================================================\n",
            " conv2d_76 (Conv2D)          (None, 12, 12, 6)         456       \n",
            "                                                                 \n",
            " max_pooling2d_76 (MaxPoolin  (None, 6, 6, 6)          0         \n",
            " g2D)                                                            \n",
            "                                                                 \n",
            " conv2d_77 (Conv2D)          (None, 2, 2, 16)          2416      \n",
            "                                                                 \n",
            " max_pooling2d_77 (MaxPoolin  (None, 1, 1, 16)         0         \n",
            " g2D)                                                            \n",
            "                                                                 \n",
            " flatten_38 (Flatten)        (None, 16)                0         \n",
            "                                                                 \n",
            " dense_114 (Dense)           (None, 120)               2040      \n",
            "                                                                 \n",
            " dense_115 (Dense)           (None, 84)                10164     \n",
            "                                                                 \n",
            " dense_116 (Dense)           (None, 10)                850       \n",
            "                                                                 \n",
            "=================================================================\n",
            "Total params: 15,926\n",
            "Trainable params: 15,926\n",
            "Non-trainable params: 0\n",
            "_________________________________________________________________\n"
          ]
        }
      ]
    },
    {
      "cell_type": "code",
      "source": [
        "i=4\n",
        "img_shape = (16*i, 16*i, 3)\n",
        "model = create_LeNet(img_shape)\n",
        "model.summary()"
      ],
      "metadata": {
        "colab": {
          "base_uri": "https://localhost:8080/"
        },
        "id": "YyhAGrKLkIG8",
        "outputId": "c8e380aa-3336-4ab8-f7e6-8feb0de728c1"
      },
      "execution_count": null,
      "outputs": [
        {
          "output_type": "stream",
          "name": "stdout",
          "text": [
            "Model: \"sequential_39\"\n",
            "_________________________________________________________________\n",
            " Layer (type)                Output Shape              Param #   \n",
            "=================================================================\n",
            " conv2d_78 (Conv2D)          (None, 60, 60, 6)         456       \n",
            "                                                                 \n",
            " max_pooling2d_78 (MaxPoolin  (None, 30, 30, 6)        0         \n",
            " g2D)                                                            \n",
            "                                                                 \n",
            " conv2d_79 (Conv2D)          (None, 26, 26, 16)        2416      \n",
            "                                                                 \n",
            " max_pooling2d_79 (MaxPoolin  (None, 13, 13, 16)       0         \n",
            " g2D)                                                            \n",
            "                                                                 \n",
            " flatten_39 (Flatten)        (None, 2704)              0         \n",
            "                                                                 \n",
            " dense_117 (Dense)           (None, 120)               324600    \n",
            "                                                                 \n",
            " dense_118 (Dense)           (None, 84)                10164     \n",
            "                                                                 \n",
            " dense_119 (Dense)           (None, 10)                850       \n",
            "                                                                 \n",
            "=================================================================\n",
            "Total params: 338,486\n",
            "Trainable params: 338,486\n",
            "Non-trainable params: 0\n",
            "_________________________________________________________________\n"
          ]
        }
      ]
    },
    {
      "cell_type": "code",
      "source": [
        ""
      ],
      "metadata": {
        "id": "7S0QevE382q8"
      },
      "execution_count": null,
      "outputs": []
    },
    {
      "cell_type": "markdown",
      "source": [
        "## Measure Performance and Training time\n"
      ],
      "metadata": {
        "id": "E93sqha2_wcN"
      }
    },
    {
      "cell_type": "code",
      "source": [
        "# define all classes and functions\n",
        "\n",
        "class TimingCallback(keras.callbacks.Callback):\n",
        "    def __init__(self, logs={}):\n",
        "        self.logs=[]\n",
        "    def on_epoch_begin(self, epoch, logs={}):\n",
        "        self.starttime = timer()\n",
        "    def on_epoch_end(self, epoch, logs={}):\n",
        "        self.logs.append(timer()-self.starttime)\n",
        "\n",
        "# load train and test dataset\n",
        "def load_dataset():\n",
        "\t# load dataset\n",
        "\t(trainX, trainY), (testX, testY) = keras.datasets.cifar10.load_data()\n",
        "\t# one hot encode target values\n",
        "\ttrainY = keras.utils.to_categorical(trainY)\n",
        "\ttestY = keras.utils.to_categorical(testY)\n",
        "\treturn trainX, trainY, testX, testY\n",
        " \n",
        "# scale pixels\n",
        "def prep_pixels(train, test, img_size):\n",
        "    # resize the images\n",
        "    train = np.array(list(map( lambda x: tf.image.resize(x, (img_size, img_size)), train)))\n",
        "    test = np.array(list(map( lambda x: tf.image.resize(x, (img_size, img_size)), test)))\n",
        "\t# convert from integers to floats\n",
        "    train_norm = train.astype('float32')\n",
        "    test_norm = test.astype('float32')\n",
        "\t# normalize to range 0-1\n",
        "    train_norm = train_norm / 255.0\n",
        "    test_norm = test_norm / 255.0\n",
        "\t# return normalized images\n",
        "    return train_norm, test_norm\n",
        " \n",
        "# define cnn model\n",
        "def define_model(img_shape):\n",
        "\tmodel = create_LeNet(img_shape)\n",
        "\t# compile model\n",
        "\topt = keras.optimizers.SGD(learning_rate=0.005, momentum=0.9)\n",
        "\tmodel.compile(optimizer=opt, loss='categorical_crossentropy', metrics=['accuracy'])\n",
        "\treturn model\n",
        " \n",
        "# plot diagnostic learning curves\n",
        "def summarize_diagnostics(history):\n",
        "\t# plot loss\n",
        "\tplt.subplot(211)\n",
        "\tplt.title('Cross Entropy Loss')\n",
        "\tplt.plot(history.history['loss'], color='blue', label='train')\n",
        "\tplt.plot(history.history['val_loss'], color='orange', label='test')\n",
        "\t# plot accuracy\n",
        "\tplt.subplot(212)\n",
        "\tplt.title('Classification Accuracy')\n",
        "\tplt.plot(history.history['accuracy'], color='blue', label='train')\n",
        "\tplt.plot(history.history['val_accuracy'], color='orange', label='test'); plt.show()\n",
        "\n",
        " \n",
        "# run the test harness for evaluating a model\n",
        "def train_n_eval(img_shape):\n",
        "\t# load dataset\n",
        "\ttrainX, trainY, testX, testY = load_dataset()\n",
        "\t# prepare pixel data\n",
        "\ttrainX, testX = prep_pixels(trainX, testX, img_shape[0])\n",
        "\t# define model\n",
        "\tmodel = define_model(img_shape)\n",
        "\t# fit model\n",
        "\thistory = model.fit(trainX, trainY, epochs=2, batch_size=64, validation_data=(testX, testY), verbose=0)\n",
        "\t# evaluate model\n",
        "\t_, acc = model.evaluate(testX, testY, verbose=0)\n",
        "\tprint('> %.3f' % (acc * 100.0))\n",
        "\t# learning curves\n",
        "\tsummarize_diagnostics(history)"
      ],
      "metadata": {
        "id": "fDKApjvF_5uJ"
      },
      "execution_count": 4,
      "outputs": []
    },
    {
      "cell_type": "code",
      "source": [
        "img_size_list = []\n",
        "acc_list = []\n",
        "train_time_list = []\n",
        "\n",
        "for i in range(0,3): #6\n",
        "    # define image shapes\n",
        "    img_shape = (32+16*i, 32+16*i, 3)\n",
        "    # load dataset\n",
        "    trainX, trainY, testX, testY = load_dataset()\n",
        "\t# prepare pixel data\n",
        "    trainX, testX = prep_pixels(trainX, testX, img_shape[0])\n",
        "    img_size_list.append(trainX.shape[1]) ## save\n",
        "\t# define model\n",
        "    model = define_model(img_shape)\n",
        "    # call back to record training time\n",
        "    cb = TimingCallback()\n",
        "\t# fit model\n",
        "    history = model.fit(trainX, trainY, epochs=30, batch_size=4, validation_data=(testX, testY), callbacks=[cb])\n",
        "\t# evaluate model\n",
        "    _, acc = model.evaluate(testX, testY, verbose=0)\n",
        "    # print('> %.3f' % (acc * 100.0))\n",
        "    print(\"\")\n",
        "    print(f\"Image shape:{img_shape[0]},\\t Performance (accuracy): {acc * 100.0},\\t Training time (sec):{sum(cb.logs)}\")\n",
        "    acc_list.append(acc) ## save\n",
        "    train_time_list.append(sum(cb.logs))\n",
        "\t# learning curves\n",
        "    # summarize_diagnostics(history)\n",
        "\n"
      ],
      "metadata": {
        "id": "-CB2_sRxIy_u",
        "outputId": "bbbcb69c-6e84-4f2b-c5e3-0d31e96c1c49",
        "colab": {
          "base_uri": "https://localhost:8080/"
        }
      },
      "execution_count": null,
      "outputs": [
        {
          "output_type": "stream",
          "name": "stdout",
          "text": [
            "Downloading data from https://www.cs.toronto.edu/~kriz/cifar-10-python.tar.gz\n",
            "170500096/170498071 [==============================] - 4s 0us/step\n",
            "170508288/170498071 [==============================] - 4s 0us/step\n",
            "Epoch 1/30\n",
            "12500/12500 [==============================] - 55s 4ms/step - loss: 2.0763 - accuracy: 0.2142 - val_loss: 1.7647 - val_accuracy: 0.3506\n",
            "Epoch 2/30\n",
            "12500/12500 [==============================] - 41s 3ms/step - loss: 1.7728 - accuracy: 0.3524 - val_loss: 1.7931 - val_accuracy: 0.3193\n",
            "Epoch 3/30\n",
            "12500/12500 [==============================] - 41s 3ms/step - loss: 1.7438 - accuracy: 0.3661 - val_loss: 1.7127 - val_accuracy: 0.3726\n",
            "Epoch 4/30\n",
            "12500/12500 [==============================] - 41s 3ms/step - loss: 1.7191 - accuracy: 0.3787 - val_loss: 1.7110 - val_accuracy: 0.3763\n",
            "Epoch 5/30\n",
            "12500/12500 [==============================] - 46s 4ms/step - loss: 1.7041 - accuracy: 0.3894 - val_loss: 1.6892 - val_accuracy: 0.3932\n",
            "Epoch 6/30\n",
            "10124/12500 [=======================>......] - ETA: 8s - loss: 1.7030 - accuracy: 0.3871"
          ]
        }
      ]
    },
    {
      "cell_type": "code",
      "source": [
        "plt.plot(img_size_list, acc_list)\n",
        "plt.xlabel(\"Image size\")\n",
        "plt.ylabel(\"Accuracy (%)\")\n",
        "plt.title(\"Impact of Image size on model accuracy - LeNet\")\n",
        "plt.show()"
      ],
      "metadata": {
        "id": "Gyi_L0v3dBuF"
      },
      "execution_count": null,
      "outputs": []
    },
    {
      "cell_type": "code",
      "source": [
        "plt.plot(img_size_list, train_time_list)\n",
        "plt.xlabel(\"Image size\")\n",
        "plt.ylabel(\"Train time (sec)\")\n",
        "plt.title(\"Impact of Image size on training time - LeNet\")\n",
        "plt.show()"
      ],
      "metadata": {
        "id": "AyLYXPntMNKj",
        "outputId": "faab41ed-874a-486a-9b13-e18b549e66b8",
        "colab": {
          "base_uri": "https://localhost:8080/",
          "height": 295
        }
      },
      "execution_count": 6,
      "outputs": [
        {
          "output_type": "display_data",
          "data": {
            "text/plain": [
              "<Figure size 432x288 with 1 Axes>"
            ],
            "image/png": "[encoded data removed]"
          },
          "metadata": {
            "needs_background": "light"
          }
        }
      ]
    },
    {
      "cell_type": "code",
      "source": [
        "perf_change = [ ((acc_list[i] - acc_list[i-1])/acc_list[i-1])*100  for i in range(1, len(acc_list))]\n",
        "time_change = [ ((train_time_list[i] - train_time_list[i-1])/train_time_list[i-1])*100  for i in range(1, len(train_time_list))]\n",
        "\n",
        "perf_change.insert(0, 0) # no improvement at index 0\n",
        "time_change.insert(0, 0)"
      ],
      "metadata": {
        "id": "bXWAjWW_uZba"
      },
      "execution_count": null,
      "outputs": []
    },
    {
      "cell_type": "code",
      "source": [
        "plt.plot(img_size_list, perf_change)\n",
        "plt.xlabel(\"Image size\")\n",
        "plt.ylabel(\"Accuracy change (%)\")\n",
        "plt.title(\"Impact of Image size on model accuracy (change) - LeNet\")\n",
        "plt.show()"
      ],
      "metadata": {
        "id": "3GF_g87FvlJ4"
      },
      "execution_count": null,
      "outputs": []
    },
    {
      "cell_type": "code",
      "source": [
        "plt.plot(img_size_list, time_change)\n",
        "plt.xlabel(\"Image size\")\n",
        "plt.ylabel(\"Train change (%)\")\n",
        "plt.title(\"Impact of Image size on training time (change) - LeNet\")\n",
        "plt.show()"
      ],
      "metadata": {
        "id": "UCMKa6b-vuIL"
      },
      "execution_count": null,
      "outputs": []
    }
  ],
  "metadata": {
    "language_info": {
      "name": "python"
    },
    "orig_nbformat": 4,
    "colab": {
      "name": "img_impact_on_model.ipynb",
      "provenance": []
    },
    "kernelspec": {
      "name": "python3",
      "display_name": "Python 3"
    },
    "accelerator": "GPU"
  },
  "nbformat": 4,
  "nbformat_minor": 0
}